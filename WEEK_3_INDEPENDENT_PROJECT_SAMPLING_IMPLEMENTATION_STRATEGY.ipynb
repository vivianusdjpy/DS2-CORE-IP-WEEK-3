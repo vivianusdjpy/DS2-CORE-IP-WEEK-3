{
  "nbformat": 4,
  "nbformat_minor": 0,
  "metadata": {
    "colab": {
      "name": "WEEK 3 INDEPENDENT PROJECT. SAMPLING IMPLEMENTATION STRATEGY",
      "provenance": [],
      "toc_visible": true,
      "include_colab_link": true
    },
    "kernelspec": {
      "name": "python3",
      "display_name": "Python 3"
    }
  },
  "cells": [
    {
      "cell_type": "markdown",
      "metadata": {
        "id": "view-in-github",
        "colab_type": "text"
      },
      "source": [
        "<a href=\"https://colab.research.google.com/github/vivianusdjpy/DS2-CORE-IP-WEEK-3/blob/master/WEEK_3_INDEPENDENT_PROJECT_SAMPLING_IMPLEMENTATION_STRATEGY.ipynb\" target=\"_parent\"><img src=\"https://colab.research.google.com/assets/colab-badge.svg\" alt=\"Open In Colab\"/></a>"
      ]
    },
    {
      "cell_type": "markdown",
      "metadata": {
        "id": "5W77PhwIUMS-",
        "colab_type": "text"
      },
      "source": [
        "# US BORDER CROSSING ANALYSIS"
      ]
    },
    {
      "cell_type": "code",
      "metadata": {
        "id": "k37u7gFXVQlf",
        "colab_type": "code",
        "colab": {}
      },
      "source": [
        "#IMPORTING THE LIBRARIES\n",
        "import pandas as pd\n",
        "import numpy as np\n",
        "import matplotlib.pyplot as plt\n",
        "import seaborn as sns\n",
        "from sklearn.cluster import KMeans\n",
        "from numpy.random import seed\n",
        "from numpy.random import randn\n",
        "from matplotlib import pyplot\n",
        "from statsmodels.graphics.gofplots import qqplot"
      ],
      "execution_count": 0,
      "outputs": []
    },
    {
      "cell_type": "markdown",
      "metadata": {
        "id": "2w_qWCRyUQjZ",
        "colab_type": "text"
      },
      "source": [
        "# LOADING THE DATASET"
      ]
    },
    {
      "cell_type": "code",
      "metadata": {
        "id": "G4AzRqF3V9Gu",
        "colab_type": "code",
        "outputId": "6b0745a8-2786-440c-d033-c9574c2fff39",
        "colab": {
          "base_uri": "https://localhost:8080/",
          "height": 590
        }
      },
      "source": [
        "df = pd.read_csv(\"/content/Border_Crossing_Entry_Data.csv\")\n",
        "df.head(150)"
      ],
      "execution_count": 76,
      "outputs": [
        {
          "output_type": "execute_result",
          "data": {
            "text/html": [
              "<div>\n",
              "<style scoped>\n",
              "    .dataframe tbody tr th:only-of-type {\n",
              "        vertical-align: middle;\n",
              "    }\n",
              "\n",
              "    .dataframe tbody tr th {\n",
              "        vertical-align: top;\n",
              "    }\n",
              "\n",
              "    .dataframe thead th {\n",
              "        text-align: right;\n",
              "    }\n",
              "</style>\n",
              "<table border=\"1\" class=\"dataframe\">\n",
              "  <thead>\n",
              "    <tr style=\"text-align: right;\">\n",
              "      <th></th>\n",
              "      <th>Port Name</th>\n",
              "      <th>State</th>\n",
              "      <th>Port Code</th>\n",
              "      <th>Border</th>\n",
              "      <th>Date</th>\n",
              "      <th>Measure</th>\n",
              "      <th>Value</th>\n",
              "      <th>Location</th>\n",
              "    </tr>\n",
              "  </thead>\n",
              "  <tbody>\n",
              "    <tr>\n",
              "      <th>0</th>\n",
              "      <td>Calexico East</td>\n",
              "      <td>California</td>\n",
              "      <td>2507</td>\n",
              "      <td>US-Mexico Border</td>\n",
              "      <td>03/01/2019 12:00:00 AM</td>\n",
              "      <td>Trucks</td>\n",
              "      <td>34447</td>\n",
              "      <td>POINT (-115.48433000000001 32.67524)</td>\n",
              "    </tr>\n",
              "    <tr>\n",
              "      <th>1</th>\n",
              "      <td>Van Buren</td>\n",
              "      <td>Maine</td>\n",
              "      <td>108</td>\n",
              "      <td>US-Canada Border</td>\n",
              "      <td>03/01/2019 12:00:00 AM</td>\n",
              "      <td>Rail Containers Full</td>\n",
              "      <td>428</td>\n",
              "      <td>POINT (-67.94271 47.16207)</td>\n",
              "    </tr>\n",
              "    <tr>\n",
              "      <th>2</th>\n",
              "      <td>Otay Mesa</td>\n",
              "      <td>California</td>\n",
              "      <td>2506</td>\n",
              "      <td>US-Mexico Border</td>\n",
              "      <td>03/01/2019 12:00:00 AM</td>\n",
              "      <td>Trucks</td>\n",
              "      <td>81217</td>\n",
              "      <td>POINT (-117.05333 32.57333)</td>\n",
              "    </tr>\n",
              "    <tr>\n",
              "      <th>3</th>\n",
              "      <td>Nogales</td>\n",
              "      <td>Arizona</td>\n",
              "      <td>2604</td>\n",
              "      <td>US-Mexico Border</td>\n",
              "      <td>03/01/2019 12:00:00 AM</td>\n",
              "      <td>Trains</td>\n",
              "      <td>62</td>\n",
              "      <td>POINT (-110.93361 31.340279999999996)</td>\n",
              "    </tr>\n",
              "    <tr>\n",
              "      <th>4</th>\n",
              "      <td>Trout River</td>\n",
              "      <td>New York</td>\n",
              "      <td>715</td>\n",
              "      <td>US-Canada Border</td>\n",
              "      <td>03/01/2019 12:00:00 AM</td>\n",
              "      <td>Personal Vehicle Passengers</td>\n",
              "      <td>16377</td>\n",
              "      <td>POINT (-73.44253 44.990010000000005)</td>\n",
              "    </tr>\n",
              "    <tr>\n",
              "      <th>...</th>\n",
              "      <td>...</td>\n",
              "      <td>...</td>\n",
              "      <td>...</td>\n",
              "      <td>...</td>\n",
              "      <td>...</td>\n",
              "      <td>...</td>\n",
              "      <td>...</td>\n",
              "      <td>...</td>\n",
              "    </tr>\n",
              "    <tr>\n",
              "      <th>145</th>\n",
              "      <td>Trout River</td>\n",
              "      <td>New York</td>\n",
              "      <td>715</td>\n",
              "      <td>US-Canada Border</td>\n",
              "      <td>03/01/2019 12:00:00 AM</td>\n",
              "      <td>Truck Containers Full</td>\n",
              "      <td>437</td>\n",
              "      <td>POINT (-73.44253 44.990010000000005)</td>\n",
              "    </tr>\n",
              "    <tr>\n",
              "      <th>146</th>\n",
              "      <td>Calais</td>\n",
              "      <td>Maine</td>\n",
              "      <td>115</td>\n",
              "      <td>US-Canada Border</td>\n",
              "      <td>03/01/2019 12:00:00 AM</td>\n",
              "      <td>Rail Containers Full</td>\n",
              "      <td>18</td>\n",
              "      <td>POINT (-67.27917 45.18889)</td>\n",
              "    </tr>\n",
              "    <tr>\n",
              "      <th>147</th>\n",
              "      <td>Piegan</td>\n",
              "      <td>Montana</td>\n",
              "      <td>3316</td>\n",
              "      <td>US-Canada Border</td>\n",
              "      <td>03/01/2019 12:00:00 AM</td>\n",
              "      <td>Personal Vehicle Passengers</td>\n",
              "      <td>8140</td>\n",
              "      <td>POINT (-113.43406 48.85152)</td>\n",
              "    </tr>\n",
              "    <tr>\n",
              "      <th>148</th>\n",
              "      <td>Northgate</td>\n",
              "      <td>North Dakota</td>\n",
              "      <td>3406</td>\n",
              "      <td>US-Canada Border</td>\n",
              "      <td>03/01/2019 12:00:00 AM</td>\n",
              "      <td>Truck Containers Empty</td>\n",
              "      <td>534</td>\n",
              "      <td>POINT (-102.39634 48.89848)</td>\n",
              "    </tr>\n",
              "    <tr>\n",
              "      <th>149</th>\n",
              "      <td>Sumas</td>\n",
              "      <td>Washington</td>\n",
              "      <td>3009</td>\n",
              "      <td>US-Canada Border</td>\n",
              "      <td>03/01/2019 12:00:00 AM</td>\n",
              "      <td>Trucks</td>\n",
              "      <td>13179</td>\n",
              "      <td>POINT (-122.26361 49.00028)</td>\n",
              "    </tr>\n",
              "  </tbody>\n",
              "</table>\n",
              "<p>150 rows × 8 columns</p>\n",
              "</div>"
            ],
            "text/plain": [
              "         Port Name         State  ...  Value                               Location\n",
              "0    Calexico East    California  ...  34447   POINT (-115.48433000000001 32.67524)\n",
              "1        Van Buren         Maine  ...    428             POINT (-67.94271 47.16207)\n",
              "2        Otay Mesa    California  ...  81217            POINT (-117.05333 32.57333)\n",
              "3          Nogales       Arizona  ...     62  POINT (-110.93361 31.340279999999996)\n",
              "4      Trout River      New York  ...  16377   POINT (-73.44253 44.990010000000005)\n",
              "..             ...           ...  ...    ...                                    ...\n",
              "145    Trout River      New York  ...    437   POINT (-73.44253 44.990010000000005)\n",
              "146         Calais         Maine  ...     18             POINT (-67.27917 45.18889)\n",
              "147         Piegan       Montana  ...   8140            POINT (-113.43406 48.85152)\n",
              "148      Northgate  North Dakota  ...    534            POINT (-102.39634 48.89848)\n",
              "149          Sumas    Washington  ...  13179            POINT (-122.26361 49.00028)\n",
              "\n",
              "[150 rows x 8 columns]"
            ]
          },
          "metadata": {
            "tags": []
          },
          "execution_count": 76
        }
      ]
    },
    {
      "cell_type": "code",
      "metadata": {
        "id": "bos02VRkXwi_",
        "colab_type": "code",
        "outputId": "ed2933b2-82de-4033-eb22-d0c227cf2da0",
        "colab": {
          "base_uri": "https://localhost:8080/",
          "height": 287
        }
      },
      "source": [
        "df.describe()\n"
      ],
      "execution_count": 59,
      "outputs": [
        {
          "output_type": "execute_result",
          "data": {
            "text/html": [
              "<div>\n",
              "<style scoped>\n",
              "    .dataframe tbody tr th:only-of-type {\n",
              "        vertical-align: middle;\n",
              "    }\n",
              "\n",
              "    .dataframe tbody tr th {\n",
              "        vertical-align: top;\n",
              "    }\n",
              "\n",
              "    .dataframe thead th {\n",
              "        text-align: right;\n",
              "    }\n",
              "</style>\n",
              "<table border=\"1\" class=\"dataframe\">\n",
              "  <thead>\n",
              "    <tr style=\"text-align: right;\">\n",
              "      <th></th>\n",
              "      <th>Port Code</th>\n",
              "      <th>Value</th>\n",
              "    </tr>\n",
              "  </thead>\n",
              "  <tbody>\n",
              "    <tr>\n",
              "      <th>count</th>\n",
              "      <td>346733.000000</td>\n",
              "      <td>3.467330e+05</td>\n",
              "    </tr>\n",
              "    <tr>\n",
              "      <th>mean</th>\n",
              "      <td>2455.504910</td>\n",
              "      <td>2.818767e+04</td>\n",
              "    </tr>\n",
              "    <tr>\n",
              "      <th>std</th>\n",
              "      <td>1201.208459</td>\n",
              "      <td>1.518588e+05</td>\n",
              "    </tr>\n",
              "    <tr>\n",
              "      <th>min</th>\n",
              "      <td>101.000000</td>\n",
              "      <td>0.000000e+00</td>\n",
              "    </tr>\n",
              "    <tr>\n",
              "      <th>25%</th>\n",
              "      <td>2304.000000</td>\n",
              "      <td>0.000000e+00</td>\n",
              "    </tr>\n",
              "    <tr>\n",
              "      <th>50%</th>\n",
              "      <td>3013.000000</td>\n",
              "      <td>9.000000e+01</td>\n",
              "    </tr>\n",
              "    <tr>\n",
              "      <th>75%</th>\n",
              "      <td>3402.000000</td>\n",
              "      <td>2.483000e+03</td>\n",
              "    </tr>\n",
              "    <tr>\n",
              "      <th>max</th>\n",
              "      <td>4105.000000</td>\n",
              "      <td>4.447374e+06</td>\n",
              "    </tr>\n",
              "  </tbody>\n",
              "</table>\n",
              "</div>"
            ],
            "text/plain": [
              "           Port Code         Value\n",
              "count  346733.000000  3.467330e+05\n",
              "mean     2455.504910  2.818767e+04\n",
              "std      1201.208459  1.518588e+05\n",
              "min       101.000000  0.000000e+00\n",
              "25%      2304.000000  0.000000e+00\n",
              "50%      3013.000000  9.000000e+01\n",
              "75%      3402.000000  2.483000e+03\n",
              "max      4105.000000  4.447374e+06"
            ]
          },
          "metadata": {
            "tags": []
          },
          "execution_count": 59
        }
      ]
    },
    {
      "cell_type": "markdown",
      "metadata": {
        "id": "UwQXXKbH4Px5",
        "colab_type": "text"
      },
      "source": [
        "# DATA CLEANING"
      ]
    },
    {
      "cell_type": "code",
      "metadata": {
        "id": "gde8Qq9fYD7L",
        "colab_type": "code",
        "outputId": "8d9cb437-1b0f-4003-f56f-c216fbc28bcc",
        "colab": {
          "base_uri": "https://localhost:8080/",
          "height": 105
        }
      },
      "source": [
        "df['State'].describe()\n",
        "#15 unique states"
      ],
      "execution_count": 60,
      "outputs": [
        {
          "output_type": "execute_result",
          "data": {
            "text/plain": [
              "count           346733\n",
              "unique              15\n",
              "top       North Dakota\n",
              "freq             57071\n",
              "Name: State, dtype: object"
            ]
          },
          "metadata": {
            "tags": []
          },
          "execution_count": 60
        }
      ]
    },
    {
      "cell_type": "code",
      "metadata": {
        "id": "TeO2M94M6bDy",
        "colab_type": "code",
        "outputId": "7f275502-0c36-45a4-d6c7-77be6542c7e3",
        "colab": {
          "base_uri": "https://localhost:8080/",
          "height": 34
        }
      },
      "source": [
        "df['Date'].max()\n"
      ],
      "execution_count": 61,
      "outputs": [
        {
          "output_type": "execute_result",
          "data": {
            "text/plain": [
              "'12/01/2018 12:00:00 AM'"
            ]
          },
          "metadata": {
            "tags": []
          },
          "execution_count": 61
        }
      ]
    },
    {
      "cell_type": "code",
      "metadata": {
        "id": "YHnPXLJwkAKO",
        "colab_type": "code",
        "outputId": "78256094-68e2-4edc-d8ff-9c02e150e522",
        "colab": {
          "base_uri": "https://localhost:8080/",
          "height": 105
        }
      },
      "source": [
        "df['Port Name'].describe()\n",
        "#116 unique port names"
      ],
      "execution_count": 62,
      "outputs": [
        {
          "output_type": "execute_result",
          "data": {
            "text/plain": [
              "count       346733\n",
              "unique         116\n",
              "top       Eastport\n",
              "freq          5541\n",
              "Name: Port Name, dtype: object"
            ]
          },
          "metadata": {
            "tags": []
          },
          "execution_count": 62
        }
      ]
    },
    {
      "cell_type": "code",
      "metadata": {
        "id": "F9clWJVAwYDf",
        "colab_type": "code",
        "outputId": "61957853-3798-49cc-81f1-f628c2c565da",
        "colab": {
          "base_uri": "https://localhost:8080/",
          "height": 212
        }
      },
      "source": [
        "df['Port Code'].unique()\n",
        "#117 port ID's"
      ],
      "execution_count": 63,
      "outputs": [
        {
          "output_type": "execute_result",
          "data": {
            "text/plain": [
              "array([2507,  108, 2506, 2604,  715,  109, 3401, 2309, 3403,  712, 3317,\n",
              "       3404, 3430,  209, 3409, 3323, 3023,  105, 2504, 3309,  206,  115,\n",
              "        704, 3019, 3415, 3013, 2505, 3302, 3407, 2310, 2603, 2410, 3301,\n",
              "       3308,  211, 3803, 3413, 2307, 2302, 2606,  212, 3322,  106, 3025,\n",
              "        107, 3420, 3419, 3004, 2601, 3802,  127, 2408, 2602, 3426, 3103,\n",
              "       3417, 3020, 3424,  110, 3613,  901, 2503, 3425, 3406, 3414, 3016,\n",
              "       3801,  104, 3410, 3306, 3422, 3015, 3009,  708, 2303, 3421, 3310,\n",
              "       3316, 2404, 2402, 3007, 2608, 3012, 3011, 3423, 3321, 3416,  118,\n",
              "       2502, 2305,  203, 3017,  103, 3604, 3405, 2406, 2301, 2403,  701,\n",
              "       3010, 3319, 3325, 3318, 2304, 3408, 3102, 3104, 3106, 2582, 3014,\n",
              "       3814,  101,  706, 4105, 3312, 3402,  112])"
            ]
          },
          "metadata": {
            "tags": []
          },
          "execution_count": 63
        }
      ]
    },
    {
      "cell_type": "code",
      "metadata": {
        "id": "xfnwmxZ3o18B",
        "colab_type": "code",
        "outputId": "fcfd94cb-2e8f-4495-d763-1db46eacc58b",
        "colab": {
          "base_uri": "https://localhost:8080/",
          "height": 105
        }
      },
      "source": [
        "df['Border'].describe()\n",
        "#There are two main ports of entry into the united states and the most popular is US-Canada Border"
      ],
      "execution_count": 64,
      "outputs": [
        {
          "output_type": "execute_result",
          "data": {
            "text/plain": [
              "count               346733\n",
              "unique                   2\n",
              "top       US-Canada Border\n",
              "freq                266187\n",
              "Name: Border, dtype: object"
            ]
          },
          "metadata": {
            "tags": []
          },
          "execution_count": 64
        }
      ]
    },
    {
      "cell_type": "code",
      "metadata": {
        "id": "I9V5DgrxwHgb",
        "colab_type": "code",
        "outputId": "162cdbac-cd31-41b4-9a08-595223a2a722",
        "colab": {
          "base_uri": "https://localhost:8080/",
          "height": 105
        }
      },
      "source": [
        "df['Measure'].describe()\n",
        "#most of the entry into the US is by personal vehicles"
      ],
      "execution_count": 65,
      "outputs": [
        {
          "output_type": "execute_result",
          "data": {
            "text/plain": [
              "count                346733\n",
              "unique                   12\n",
              "top       Personal Vehicles\n",
              "freq                  30219\n",
              "Name: Measure, dtype: object"
            ]
          },
          "metadata": {
            "tags": []
          },
          "execution_count": 65
        }
      ]
    },
    {
      "cell_type": "code",
      "metadata": {
        "id": "MGpIqkol_O2d",
        "colab_type": "code",
        "outputId": "6e23f6df-4838-4fb9-ebf5-ebb414851c5b",
        "colab": {
          "base_uri": "https://localhost:8080/",
          "height": 105
        }
      },
      "source": [
        "df['Location'].describe()\n",
        "#there are 224 unique locations "
      ],
      "execution_count": 66,
      "outputs": [
        {
          "output_type": "execute_result",
          "data": {
            "text/plain": [
              "count                   346733\n",
              "unique                     224\n",
              "top       POINT (-83.04 42.32)\n",
              "freq                      3069\n",
              "Name: Location, dtype: object"
            ]
          },
          "metadata": {
            "tags": []
          },
          "execution_count": 66
        }
      ]
    },
    {
      "cell_type": "code",
      "metadata": {
        "id": "5mVV5yFGTC-n",
        "colab_type": "code",
        "outputId": "a2e93507-8a13-4091-d3a7-788d02b37695",
        "colab": {
          "base_uri": "https://localhost:8080/",
          "height": 34
        }
      },
      "source": [
        "df['Value'].sum()"
      ],
      "execution_count": 67,
      "outputs": [
        {
          "output_type": "execute_result",
          "data": {
            "text/plain": [
              "9773594842"
            ]
          },
          "metadata": {
            "tags": []
          },
          "execution_count": 67
        }
      ]
    },
    {
      "cell_type": "markdown",
      "metadata": {
        "id": "E6qlaHJc4Xjp",
        "colab_type": "text"
      },
      "source": [
        "# VISUALIZATION AND NORMALITY TESTS"
      ]
    },
    {
      "cell_type": "code",
      "metadata": {
        "id": "VH0OeP24y2S6",
        "colab_type": "code",
        "outputId": "dfd3d62a-dab7-4c18-e089-da03cd708d99",
        "colab": {
          "base_uri": "https://localhost:8080/",
          "height": 264
        }
      },
      "source": [
        "#Using histograms to visualize the distribution of entry into the US via the two major ports of entry\n",
        "pyplot.hist(df['Border'])\n",
        "pyplot.show()"
      ],
      "execution_count": 68,
      "outputs": [
        {
          "output_type": "display_data",
          "data": {
            "image/png": "[encoded data removed]",
            "text/plain": [
              "<Figure size 432x288 with 1 Axes>"
            ]
          },
          "metadata": {
            "tags": []
          }
        }
      ]
    },
    {
      "cell_type": "code",
      "metadata": {
        "id": "L29Tpn_GzHdv",
        "colab_type": "code",
        "outputId": "add9d77a-08b6-4807-edd6-06f29c831776",
        "colab": {
          "base_uri": "https://localhost:8080/",
          "height": 278
        }
      },
      "source": [
        "#Using Q-Q Plot to check for normality in the data\n",
        "qqplot(df['Value'], line='s')\n",
        "pyplot.show()"
      ],
      "execution_count": 69,
      "outputs": [
        {
          "output_type": "display_data",
          "data": {
            "image/png": "[encoded data removed]",
            "text/plain": [
              "<Figure size 432x288 with 1 Axes>"
            ]
          },
          "metadata": {
            "tags": []
          }
        }
      ]
    },
    {
      "cell_type": "code",
      "metadata": {
        "id": "mXRDRMGMiPGP",
        "colab_type": "code",
        "outputId": "1f79cadb-02f3-4dd6-863b-e4b197e472b5",
        "colab": {
          "base_uri": "https://localhost:8080/",
          "height": 437
        }
      },
      "source": [
        "df_1 = df.groupby(df['Measure'])\n",
        "df_1.count()\n",
        "#The table below gives the distribution of values in the population based on the Measure column"
      ],
      "execution_count": 70,
      "outputs": [
        {
          "output_type": "execute_result",
          "data": {
            "text/html": [
              "<div>\n",
              "<style scoped>\n",
              "    .dataframe tbody tr th:only-of-type {\n",
              "        vertical-align: middle;\n",
              "    }\n",
              "\n",
              "    .dataframe tbody tr th {\n",
              "        vertical-align: top;\n",
              "    }\n",
              "\n",
              "    .dataframe thead th {\n",
              "        text-align: right;\n",
              "    }\n",
              "</style>\n",
              "<table border=\"1\" class=\"dataframe\">\n",
              "  <thead>\n",
              "    <tr style=\"text-align: right;\">\n",
              "      <th></th>\n",
              "      <th>Port Name</th>\n",
              "      <th>State</th>\n",
              "      <th>Port Code</th>\n",
              "      <th>Border</th>\n",
              "      <th>Date</th>\n",
              "      <th>Value</th>\n",
              "      <th>Location</th>\n",
              "    </tr>\n",
              "    <tr>\n",
              "      <th>Measure</th>\n",
              "      <th></th>\n",
              "      <th></th>\n",
              "      <th></th>\n",
              "      <th></th>\n",
              "      <th></th>\n",
              "      <th></th>\n",
              "      <th></th>\n",
              "    </tr>\n",
              "  </thead>\n",
              "  <tbody>\n",
              "    <tr>\n",
              "      <th>Bus Passengers</th>\n",
              "      <td>28820</td>\n",
              "      <td>28820</td>\n",
              "      <td>28820</td>\n",
              "      <td>28820</td>\n",
              "      <td>28820</td>\n",
              "      <td>28820</td>\n",
              "      <td>28820</td>\n",
              "    </tr>\n",
              "    <tr>\n",
              "      <th>Buses</th>\n",
              "      <td>28822</td>\n",
              "      <td>28822</td>\n",
              "      <td>28822</td>\n",
              "      <td>28822</td>\n",
              "      <td>28822</td>\n",
              "      <td>28822</td>\n",
              "      <td>28822</td>\n",
              "    </tr>\n",
              "    <tr>\n",
              "      <th>Pedestrians</th>\n",
              "      <td>28697</td>\n",
              "      <td>28697</td>\n",
              "      <td>28697</td>\n",
              "      <td>28697</td>\n",
              "      <td>28697</td>\n",
              "      <td>28697</td>\n",
              "      <td>28697</td>\n",
              "    </tr>\n",
              "    <tr>\n",
              "      <th>Personal Vehicle Passengers</th>\n",
              "      <td>30196</td>\n",
              "      <td>30196</td>\n",
              "      <td>30196</td>\n",
              "      <td>30196</td>\n",
              "      <td>30196</td>\n",
              "      <td>30196</td>\n",
              "      <td>30196</td>\n",
              "    </tr>\n",
              "    <tr>\n",
              "      <th>Personal Vehicles</th>\n",
              "      <td>30219</td>\n",
              "      <td>30219</td>\n",
              "      <td>30219</td>\n",
              "      <td>30219</td>\n",
              "      <td>30219</td>\n",
              "      <td>30219</td>\n",
              "      <td>30219</td>\n",
              "    </tr>\n",
              "    <tr>\n",
              "      <th>Rail Containers Empty</th>\n",
              "      <td>27684</td>\n",
              "      <td>27684</td>\n",
              "      <td>27684</td>\n",
              "      <td>27684</td>\n",
              "      <td>27684</td>\n",
              "      <td>27684</td>\n",
              "      <td>27684</td>\n",
              "    </tr>\n",
              "    <tr>\n",
              "      <th>Rail Containers Full</th>\n",
              "      <td>27657</td>\n",
              "      <td>27657</td>\n",
              "      <td>27657</td>\n",
              "      <td>27657</td>\n",
              "      <td>27657</td>\n",
              "      <td>27657</td>\n",
              "      <td>27657</td>\n",
              "    </tr>\n",
              "    <tr>\n",
              "      <th>Train Passengers</th>\n",
              "      <td>27623</td>\n",
              "      <td>27623</td>\n",
              "      <td>27623</td>\n",
              "      <td>27623</td>\n",
              "      <td>27623</td>\n",
              "      <td>27623</td>\n",
              "      <td>27623</td>\n",
              "    </tr>\n",
              "    <tr>\n",
              "      <th>Trains</th>\n",
              "      <td>27708</td>\n",
              "      <td>27708</td>\n",
              "      <td>27708</td>\n",
              "      <td>27708</td>\n",
              "      <td>27708</td>\n",
              "      <td>27708</td>\n",
              "      <td>27708</td>\n",
              "    </tr>\n",
              "    <tr>\n",
              "      <th>Truck Containers Empty</th>\n",
              "      <td>29757</td>\n",
              "      <td>29757</td>\n",
              "      <td>29757</td>\n",
              "      <td>29757</td>\n",
              "      <td>29757</td>\n",
              "      <td>29757</td>\n",
              "      <td>29757</td>\n",
              "    </tr>\n",
              "    <tr>\n",
              "      <th>Truck Containers Full</th>\n",
              "      <td>29694</td>\n",
              "      <td>29694</td>\n",
              "      <td>29694</td>\n",
              "      <td>29694</td>\n",
              "      <td>29694</td>\n",
              "      <td>29694</td>\n",
              "      <td>29694</td>\n",
              "    </tr>\n",
              "    <tr>\n",
              "      <th>Trucks</th>\n",
              "      <td>29856</td>\n",
              "      <td>29856</td>\n",
              "      <td>29856</td>\n",
              "      <td>29856</td>\n",
              "      <td>29856</td>\n",
              "      <td>29856</td>\n",
              "      <td>29856</td>\n",
              "    </tr>\n",
              "  </tbody>\n",
              "</table>\n",
              "</div>"
            ],
            "text/plain": [
              "                             Port Name  State  ...  Value  Location\n",
              "Measure                                        ...                 \n",
              "Bus Passengers                   28820  28820  ...  28820     28820\n",
              "Buses                            28822  28822  ...  28822     28822\n",
              "Pedestrians                      28697  28697  ...  28697     28697\n",
              "Personal Vehicle Passengers      30196  30196  ...  30196     30196\n",
              "Personal Vehicles                30219  30219  ...  30219     30219\n",
              "Rail Containers Empty            27684  27684  ...  27684     27684\n",
              "Rail Containers Full             27657  27657  ...  27657     27657\n",
              "Train Passengers                 27623  27623  ...  27623     27623\n",
              "Trains                           27708  27708  ...  27708     27708\n",
              "Truck Containers Empty           29757  29757  ...  29757     29757\n",
              "Truck Containers Full            29694  29694  ...  29694     29694\n",
              "Trucks                           29856  29856  ...  29856     29856\n",
              "\n",
              "[12 rows x 7 columns]"
            ]
          },
          "metadata": {
            "tags": []
          },
          "execution_count": 70
        }
      ]
    },
    {
      "cell_type": "code",
      "metadata": {
        "id": "TRn1hcAbisoq",
        "colab_type": "code",
        "outputId": "4a832004-1f2d-49f8-afb7-08f99812288f",
        "colab": {
          "base_uri": "https://localhost:8080/",
          "height": 436
        }
      },
      "source": [
        "df_1 = df.groupby(df['Port Name'])\n",
        "df_1.count()"
      ],
      "execution_count": 71,
      "outputs": [
        {
          "output_type": "execute_result",
          "data": {
            "text/html": [
              "<div>\n",
              "<style scoped>\n",
              "    .dataframe tbody tr th:only-of-type {\n",
              "        vertical-align: middle;\n",
              "    }\n",
              "\n",
              "    .dataframe tbody tr th {\n",
              "        vertical-align: top;\n",
              "    }\n",
              "\n",
              "    .dataframe thead th {\n",
              "        text-align: right;\n",
              "    }\n",
              "</style>\n",
              "<table border=\"1\" class=\"dataframe\">\n",
              "  <thead>\n",
              "    <tr style=\"text-align: right;\">\n",
              "      <th></th>\n",
              "      <th>State</th>\n",
              "      <th>Port Code</th>\n",
              "      <th>Border</th>\n",
              "      <th>Date</th>\n",
              "      <th>Measure</th>\n",
              "      <th>Value</th>\n",
              "      <th>Location</th>\n",
              "    </tr>\n",
              "    <tr>\n",
              "      <th>Port Name</th>\n",
              "      <th></th>\n",
              "      <th></th>\n",
              "      <th></th>\n",
              "      <th></th>\n",
              "      <th></th>\n",
              "      <th></th>\n",
              "      <th></th>\n",
              "    </tr>\n",
              "  </thead>\n",
              "  <tbody>\n",
              "    <tr>\n",
              "      <th>Alcan</th>\n",
              "      <td>3187</td>\n",
              "      <td>3187</td>\n",
              "      <td>3187</td>\n",
              "      <td>3187</td>\n",
              "      <td>3187</td>\n",
              "      <td>3187</td>\n",
              "      <td>3187</td>\n",
              "    </tr>\n",
              "    <tr>\n",
              "      <th>Alexandria Bay</th>\n",
              "      <td>3186</td>\n",
              "      <td>3186</td>\n",
              "      <td>3186</td>\n",
              "      <td>3186</td>\n",
              "      <td>3186</td>\n",
              "      <td>3186</td>\n",
              "      <td>3186</td>\n",
              "    </tr>\n",
              "    <tr>\n",
              "      <th>Algonac</th>\n",
              "      <td>20</td>\n",
              "      <td>20</td>\n",
              "      <td>20</td>\n",
              "      <td>20</td>\n",
              "      <td>20</td>\n",
              "      <td>20</td>\n",
              "      <td>20</td>\n",
              "    </tr>\n",
              "    <tr>\n",
              "      <th>Ambrose</th>\n",
              "      <td>3063</td>\n",
              "      <td>3063</td>\n",
              "      <td>3063</td>\n",
              "      <td>3063</td>\n",
              "      <td>3063</td>\n",
              "      <td>3063</td>\n",
              "      <td>3063</td>\n",
              "    </tr>\n",
              "    <tr>\n",
              "      <th>Anacortes</th>\n",
              "      <td>2021</td>\n",
              "      <td>2021</td>\n",
              "      <td>2021</td>\n",
              "      <td>2021</td>\n",
              "      <td>2021</td>\n",
              "      <td>2021</td>\n",
              "      <td>2021</td>\n",
              "    </tr>\n",
              "    <tr>\n",
              "      <th>...</th>\n",
              "      <td>...</td>\n",
              "      <td>...</td>\n",
              "      <td>...</td>\n",
              "      <td>...</td>\n",
              "      <td>...</td>\n",
              "      <td>...</td>\n",
              "      <td>...</td>\n",
              "    </tr>\n",
              "    <tr>\n",
              "      <th>Westhope</th>\n",
              "      <td>3124</td>\n",
              "      <td>3124</td>\n",
              "      <td>3124</td>\n",
              "      <td>3124</td>\n",
              "      <td>3124</td>\n",
              "      <td>3124</td>\n",
              "      <td>3124</td>\n",
              "    </tr>\n",
              "    <tr>\n",
              "      <th>Whitetail</th>\n",
              "      <td>2592</td>\n",
              "      <td>2592</td>\n",
              "      <td>2592</td>\n",
              "      <td>2592</td>\n",
              "      <td>2592</td>\n",
              "      <td>2592</td>\n",
              "      <td>2592</td>\n",
              "    </tr>\n",
              "    <tr>\n",
              "      <th>Whitlash</th>\n",
              "      <td>3093</td>\n",
              "      <td>3093</td>\n",
              "      <td>3093</td>\n",
              "      <td>3093</td>\n",
              "      <td>3093</td>\n",
              "      <td>3093</td>\n",
              "      <td>3093</td>\n",
              "    </tr>\n",
              "    <tr>\n",
              "      <th>Wildhorse</th>\n",
              "      <td>2128</td>\n",
              "      <td>2128</td>\n",
              "      <td>2128</td>\n",
              "      <td>2128</td>\n",
              "      <td>2128</td>\n",
              "      <td>2128</td>\n",
              "      <td>2128</td>\n",
              "    </tr>\n",
              "    <tr>\n",
              "      <th>Willow Creek</th>\n",
              "      <td>1723</td>\n",
              "      <td>1723</td>\n",
              "      <td>1723</td>\n",
              "      <td>1723</td>\n",
              "      <td>1723</td>\n",
              "      <td>1723</td>\n",
              "      <td>1723</td>\n",
              "    </tr>\n",
              "  </tbody>\n",
              "</table>\n",
              "<p>116 rows × 7 columns</p>\n",
              "</div>"
            ],
            "text/plain": [
              "                State  Port Code  Border  Date  Measure  Value  Location\n",
              "Port Name                                                               \n",
              "Alcan            3187       3187    3187  3187     3187   3187      3187\n",
              "Alexandria Bay   3186       3186    3186  3186     3186   3186      3186\n",
              "Algonac            20         20      20    20       20     20        20\n",
              "Ambrose          3063       3063    3063  3063     3063   3063      3063\n",
              "Anacortes        2021       2021    2021  2021     2021   2021      2021\n",
              "...               ...        ...     ...   ...      ...    ...       ...\n",
              "Westhope         3124       3124    3124  3124     3124   3124      3124\n",
              "Whitetail        2592       2592    2592  2592     2592   2592      2592\n",
              "Whitlash         3093       3093    3093  3093     3093   3093      3093\n",
              "Wildhorse        2128       2128    2128  2128     2128   2128      2128\n",
              "Willow Creek     1723       1723    1723  1723     1723   1723      1723\n",
              "\n",
              "[116 rows x 7 columns]"
            ]
          },
          "metadata": {
            "tags": []
          },
          "execution_count": 71
        }
      ]
    },
    {
      "cell_type": "code",
      "metadata": {
        "id": "2dBOq3_2mFoS",
        "colab_type": "code",
        "outputId": "57f00d67-d79a-43eb-88b5-0bed455d9736",
        "colab": {
          "base_uri": "https://localhost:8080/",
          "height": 247
        }
      },
      "source": [
        "df.info()"
      ],
      "execution_count": 72,
      "outputs": [
        {
          "output_type": "stream",
          "text": [
            "<class 'pandas.core.frame.DataFrame'>\n",
            "RangeIndex: 346733 entries, 0 to 346732\n",
            "Data columns (total 8 columns):\n",
            "Port Name    346733 non-null object\n",
            "State        346733 non-null object\n",
            "Port Code    346733 non-null int64\n",
            "Border       346733 non-null object\n",
            "Date         346733 non-null object\n",
            "Measure      346733 non-null object\n",
            "Value        346733 non-null int64\n",
            "Location     346733 non-null object\n",
            "dtypes: int64(2), object(6)\n",
            "memory usage: 21.2+ MB\n"
          ],
          "name": "stdout"
        }
      ]
    },
    {
      "cell_type": "markdown",
      "metadata": {
        "id": "55rLMJ0zQaVj",
        "colab_type": "text"
      },
      "source": [
        "# GROUPING THE DATA IN YEARS"
      ]
    },
    {
      "cell_type": "code",
      "metadata": {
        "id": "oSJ7roW7mZJg",
        "colab_type": "code",
        "colab": {
          "base_uri": "https://localhost:8080/",
          "height": 247
        },
        "outputId": "013d8077-0755-40bb-f736-32e2ebb04584"
      },
      "source": [
        "#changing the year column to date_time\n",
        "df['Date'] =  pd.to_datetime(df['Date'])\n",
        "df.info()\n"
      ],
      "execution_count": 102,
      "outputs": [
        {
          "output_type": "stream",
          "text": [
            "<class 'pandas.core.frame.DataFrame'>\n",
            "RangeIndex: 346733 entries, 0 to 346732\n",
            "Data columns (total 8 columns):\n",
            "Port Name    346733 non-null object\n",
            "State        346733 non-null object\n",
            "Port Code    346733 non-null int64\n",
            "Border       346733 non-null object\n",
            "Date         346733 non-null datetime64[ns]\n",
            "Measure      346733 non-null object\n",
            "Value        346733 non-null int64\n",
            "Location     346733 non-null object\n",
            "dtypes: datetime64[ns](1), int64(2), object(5)\n",
            "memory usage: 21.2+ MB\n"
          ],
          "name": "stdout"
        }
      ]
    },
    {
      "cell_type": "code",
      "metadata": {
        "id": "Ihmf_FT4R8RM",
        "colab_type": "code",
        "colab": {
          "base_uri": "https://localhost:8080/",
          "height": 797
        },
        "outputId": "89458dd2-4fb3-44bf-d35e-bc03945a3b7c"
      },
      "source": [
        "#group by years to find the count entries  per year\n",
        "df_2 = df.groupby(df['Date'].dt.year)\n",
        "df_2.count()"
      ],
      "execution_count": 103,
      "outputs": [
        {
          "output_type": "execute_result",
          "data": {
            "text/html": [
              "<div>\n",
              "<style scoped>\n",
              "    .dataframe tbody tr th:only-of-type {\n",
              "        vertical-align: middle;\n",
              "    }\n",
              "\n",
              "    .dataframe tbody tr th {\n",
              "        vertical-align: top;\n",
              "    }\n",
              "\n",
              "    .dataframe thead th {\n",
              "        text-align: right;\n",
              "    }\n",
              "</style>\n",
              "<table border=\"1\" class=\"dataframe\">\n",
              "  <thead>\n",
              "    <tr style=\"text-align: right;\">\n",
              "      <th></th>\n",
              "      <th>Port Name</th>\n",
              "      <th>State</th>\n",
              "      <th>Port Code</th>\n",
              "      <th>Border</th>\n",
              "      <th>Date</th>\n",
              "      <th>Measure</th>\n",
              "      <th>Value</th>\n",
              "      <th>Location</th>\n",
              "    </tr>\n",
              "    <tr>\n",
              "      <th>Date</th>\n",
              "      <th></th>\n",
              "      <th></th>\n",
              "      <th></th>\n",
              "      <th></th>\n",
              "      <th></th>\n",
              "      <th></th>\n",
              "      <th></th>\n",
              "      <th></th>\n",
              "    </tr>\n",
              "  </thead>\n",
              "  <tbody>\n",
              "    <tr>\n",
              "      <th>1996</th>\n",
              "      <td>14832</td>\n",
              "      <td>14832</td>\n",
              "      <td>14832</td>\n",
              "      <td>14832</td>\n",
              "      <td>14832</td>\n",
              "      <td>14832</td>\n",
              "      <td>14832</td>\n",
              "      <td>14832</td>\n",
              "    </tr>\n",
              "    <tr>\n",
              "      <th>1997</th>\n",
              "      <td>14832</td>\n",
              "      <td>14832</td>\n",
              "      <td>14832</td>\n",
              "      <td>14832</td>\n",
              "      <td>14832</td>\n",
              "      <td>14832</td>\n",
              "      <td>14832</td>\n",
              "      <td>14832</td>\n",
              "    </tr>\n",
              "    <tr>\n",
              "      <th>1998</th>\n",
              "      <td>14832</td>\n",
              "      <td>14832</td>\n",
              "      <td>14832</td>\n",
              "      <td>14832</td>\n",
              "      <td>14832</td>\n",
              "      <td>14832</td>\n",
              "      <td>14832</td>\n",
              "      <td>14832</td>\n",
              "    </tr>\n",
              "    <tr>\n",
              "      <th>1999</th>\n",
              "      <td>14832</td>\n",
              "      <td>14832</td>\n",
              "      <td>14832</td>\n",
              "      <td>14832</td>\n",
              "      <td>14832</td>\n",
              "      <td>14832</td>\n",
              "      <td>14832</td>\n",
              "      <td>14832</td>\n",
              "    </tr>\n",
              "    <tr>\n",
              "      <th>2000</th>\n",
              "      <td>14832</td>\n",
              "      <td>14832</td>\n",
              "      <td>14832</td>\n",
              "      <td>14832</td>\n",
              "      <td>14832</td>\n",
              "      <td>14832</td>\n",
              "      <td>14832</td>\n",
              "      <td>14832</td>\n",
              "    </tr>\n",
              "    <tr>\n",
              "      <th>2001</th>\n",
              "      <td>14832</td>\n",
              "      <td>14832</td>\n",
              "      <td>14832</td>\n",
              "      <td>14832</td>\n",
              "      <td>14832</td>\n",
              "      <td>14832</td>\n",
              "      <td>14832</td>\n",
              "      <td>14832</td>\n",
              "    </tr>\n",
              "    <tr>\n",
              "      <th>2002</th>\n",
              "      <td>14832</td>\n",
              "      <td>14832</td>\n",
              "      <td>14832</td>\n",
              "      <td>14832</td>\n",
              "      <td>14832</td>\n",
              "      <td>14832</td>\n",
              "      <td>14832</td>\n",
              "      <td>14832</td>\n",
              "    </tr>\n",
              "    <tr>\n",
              "      <th>2003</th>\n",
              "      <td>15588</td>\n",
              "      <td>15588</td>\n",
              "      <td>15588</td>\n",
              "      <td>15588</td>\n",
              "      <td>15588</td>\n",
              "      <td>15588</td>\n",
              "      <td>15588</td>\n",
              "      <td>15588</td>\n",
              "    </tr>\n",
              "    <tr>\n",
              "      <th>2004</th>\n",
              "      <td>15984</td>\n",
              "      <td>15984</td>\n",
              "      <td>15984</td>\n",
              "      <td>15984</td>\n",
              "      <td>15984</td>\n",
              "      <td>15984</td>\n",
              "      <td>15984</td>\n",
              "      <td>15984</td>\n",
              "    </tr>\n",
              "    <tr>\n",
              "      <th>2005</th>\n",
              "      <td>16128</td>\n",
              "      <td>16128</td>\n",
              "      <td>16128</td>\n",
              "      <td>16128</td>\n",
              "      <td>16128</td>\n",
              "      <td>16128</td>\n",
              "      <td>16128</td>\n",
              "      <td>16128</td>\n",
              "    </tr>\n",
              "    <tr>\n",
              "      <th>2006</th>\n",
              "      <td>16128</td>\n",
              "      <td>16128</td>\n",
              "      <td>16128</td>\n",
              "      <td>16128</td>\n",
              "      <td>16128</td>\n",
              "      <td>16128</td>\n",
              "      <td>16128</td>\n",
              "      <td>16128</td>\n",
              "    </tr>\n",
              "    <tr>\n",
              "      <th>2007</th>\n",
              "      <td>16056</td>\n",
              "      <td>16056</td>\n",
              "      <td>16056</td>\n",
              "      <td>16056</td>\n",
              "      <td>16056</td>\n",
              "      <td>16056</td>\n",
              "      <td>16056</td>\n",
              "      <td>16056</td>\n",
              "    </tr>\n",
              "    <tr>\n",
              "      <th>2008</th>\n",
              "      <td>16056</td>\n",
              "      <td>16056</td>\n",
              "      <td>16056</td>\n",
              "      <td>16056</td>\n",
              "      <td>16056</td>\n",
              "      <td>16056</td>\n",
              "      <td>16056</td>\n",
              "      <td>16056</td>\n",
              "    </tr>\n",
              "    <tr>\n",
              "      <th>2009</th>\n",
              "      <td>16056</td>\n",
              "      <td>16056</td>\n",
              "      <td>16056</td>\n",
              "      <td>16056</td>\n",
              "      <td>16056</td>\n",
              "      <td>16056</td>\n",
              "      <td>16056</td>\n",
              "      <td>16056</td>\n",
              "    </tr>\n",
              "    <tr>\n",
              "      <th>2010</th>\n",
              "      <td>16200</td>\n",
              "      <td>16200</td>\n",
              "      <td>16200</td>\n",
              "      <td>16200</td>\n",
              "      <td>16200</td>\n",
              "      <td>16200</td>\n",
              "      <td>16200</td>\n",
              "      <td>16200</td>\n",
              "    </tr>\n",
              "    <tr>\n",
              "      <th>2011</th>\n",
              "      <td>15840</td>\n",
              "      <td>15840</td>\n",
              "      <td>15840</td>\n",
              "      <td>15840</td>\n",
              "      <td>15840</td>\n",
              "      <td>15840</td>\n",
              "      <td>15840</td>\n",
              "      <td>15840</td>\n",
              "    </tr>\n",
              "    <tr>\n",
              "      <th>2012</th>\n",
              "      <td>15840</td>\n",
              "      <td>15840</td>\n",
              "      <td>15840</td>\n",
              "      <td>15840</td>\n",
              "      <td>15840</td>\n",
              "      <td>15840</td>\n",
              "      <td>15840</td>\n",
              "      <td>15840</td>\n",
              "    </tr>\n",
              "    <tr>\n",
              "      <th>2013</th>\n",
              "      <td>15840</td>\n",
              "      <td>15840</td>\n",
              "      <td>15840</td>\n",
              "      <td>15840</td>\n",
              "      <td>15840</td>\n",
              "      <td>15840</td>\n",
              "      <td>15840</td>\n",
              "      <td>15840</td>\n",
              "    </tr>\n",
              "    <tr>\n",
              "      <th>2014</th>\n",
              "      <td>15840</td>\n",
              "      <td>15840</td>\n",
              "      <td>15840</td>\n",
              "      <td>15840</td>\n",
              "      <td>15840</td>\n",
              "      <td>15840</td>\n",
              "      <td>15840</td>\n",
              "      <td>15840</td>\n",
              "    </tr>\n",
              "    <tr>\n",
              "      <th>2015</th>\n",
              "      <td>15984</td>\n",
              "      <td>15984</td>\n",
              "      <td>15984</td>\n",
              "      <td>15984</td>\n",
              "      <td>15984</td>\n",
              "      <td>15984</td>\n",
              "      <td>15984</td>\n",
              "      <td>15984</td>\n",
              "    </tr>\n",
              "    <tr>\n",
              "      <th>2016</th>\n",
              "      <td>13754</td>\n",
              "      <td>13754</td>\n",
              "      <td>13754</td>\n",
              "      <td>13754</td>\n",
              "      <td>13754</td>\n",
              "      <td>13754</td>\n",
              "      <td>13754</td>\n",
              "      <td>13754</td>\n",
              "    </tr>\n",
              "    <tr>\n",
              "      <th>2017</th>\n",
              "      <td>9717</td>\n",
              "      <td>9717</td>\n",
              "      <td>9717</td>\n",
              "      <td>9717</td>\n",
              "      <td>9717</td>\n",
              "      <td>9717</td>\n",
              "      <td>9717</td>\n",
              "      <td>9717</td>\n",
              "    </tr>\n",
              "    <tr>\n",
              "      <th>2018</th>\n",
              "      <td>9534</td>\n",
              "      <td>9534</td>\n",
              "      <td>9534</td>\n",
              "      <td>9534</td>\n",
              "      <td>9534</td>\n",
              "      <td>9534</td>\n",
              "      <td>9534</td>\n",
              "      <td>9534</td>\n",
              "    </tr>\n",
              "    <tr>\n",
              "      <th>2019</th>\n",
              "      <td>2364</td>\n",
              "      <td>2364</td>\n",
              "      <td>2364</td>\n",
              "      <td>2364</td>\n",
              "      <td>2364</td>\n",
              "      <td>2364</td>\n",
              "      <td>2364</td>\n",
              "      <td>2364</td>\n",
              "    </tr>\n",
              "  </tbody>\n",
              "</table>\n",
              "</div>"
            ],
            "text/plain": [
              "      Port Name  State  Port Code  Border   Date  Measure  Value  Location\n",
              "Date                                                                      \n",
              "1996      14832  14832      14832   14832  14832    14832  14832     14832\n",
              "1997      14832  14832      14832   14832  14832    14832  14832     14832\n",
              "1998      14832  14832      14832   14832  14832    14832  14832     14832\n",
              "1999      14832  14832      14832   14832  14832    14832  14832     14832\n",
              "2000      14832  14832      14832   14832  14832    14832  14832     14832\n",
              "2001      14832  14832      14832   14832  14832    14832  14832     14832\n",
              "2002      14832  14832      14832   14832  14832    14832  14832     14832\n",
              "2003      15588  15588      15588   15588  15588    15588  15588     15588\n",
              "2004      15984  15984      15984   15984  15984    15984  15984     15984\n",
              "2005      16128  16128      16128   16128  16128    16128  16128     16128\n",
              "2006      16128  16128      16128   16128  16128    16128  16128     16128\n",
              "2007      16056  16056      16056   16056  16056    16056  16056     16056\n",
              "2008      16056  16056      16056   16056  16056    16056  16056     16056\n",
              "2009      16056  16056      16056   16056  16056    16056  16056     16056\n",
              "2010      16200  16200      16200   16200  16200    16200  16200     16200\n",
              "2011      15840  15840      15840   15840  15840    15840  15840     15840\n",
              "2012      15840  15840      15840   15840  15840    15840  15840     15840\n",
              "2013      15840  15840      15840   15840  15840    15840  15840     15840\n",
              "2014      15840  15840      15840   15840  15840    15840  15840     15840\n",
              "2015      15984  15984      15984   15984  15984    15984  15984     15984\n",
              "2016      13754  13754      13754   13754  13754    13754  13754     13754\n",
              "2017       9717   9717       9717    9717   9717     9717   9717      9717\n",
              "2018       9534   9534       9534    9534   9534     9534   9534      9534\n",
              "2019       2364   2364       2364    2364   2364     2364   2364      2364"
            ]
          },
          "metadata": {
            "tags": []
          },
          "execution_count": 103
        }
      ]
    },
    {
      "cell_type": "code",
      "metadata": {
        "id": "Q-nfBm04YnVu",
        "colab_type": "code",
        "colab": {
          "base_uri": "https://localhost:8080/",
          "height": 185
        },
        "outputId": "2a1855aa-6636-4ca9-a615-0ba26ee4fb17"
      },
      "source": [
        "pyplot.hist(df['Date'].dt.year)\n",
        "pyplot.show()"
      ],
      "execution_count": 114,
      "outputs": [
        {
          "output_type": "error",
          "ename": "TypeError",
          "evalue": "ignored",
          "traceback": [
            "\u001b[0;31m---------------------------------------------------------------------------\u001b[0m",
            "\u001b[0;31mTypeError\u001b[0m                                 Traceback (most recent call last)",
            "\u001b[0;32m<ipython-input-114-00b2200c8271>\u001b[0m in \u001b[0;36m<module>\u001b[0;34m()\u001b[0m\n\u001b[0;32m----> 1\u001b[0;31m \u001b[0mpyplot\u001b[0m\u001b[0;34m.\u001b[0m\u001b[0mhist\u001b[0m\u001b[0;34m(\u001b[0m\u001b[0mdf_2\u001b[0m\u001b[0;34m[\u001b[0m\u001b[0;34m'Date'\u001b[0m\u001b[0;34m]\u001b[0m\u001b[0;34m(\u001b[0m\u001b[0;34m)\u001b[0m\u001b[0;34m)\u001b[0m\u001b[0;34m\u001b[0m\u001b[0;34m\u001b[0m\u001b[0m\n\u001b[0m\u001b[1;32m      2\u001b[0m \u001b[0mpyplot\u001b[0m\u001b[0;34m.\u001b[0m\u001b[0mshow\u001b[0m\u001b[0;34m(\u001b[0m\u001b[0;34m)\u001b[0m\u001b[0;34m\u001b[0m\u001b[0;34m\u001b[0m\u001b[0m\n",
            "\u001b[0;31mTypeError\u001b[0m: 'SeriesGroupBy' object is not callable"
          ]
        }
      ]
    },
    {
      "cell_type": "code",
      "metadata": {
        "id": "BIy6ciClY5RM",
        "colab_type": "code",
        "colab": {}
      },
      "source": [
        "df_2.plot(x='Date', y='Value', kind='bar') \n",
        "plt.show()"
      ],
      "execution_count": 0,
      "outputs": []
    },
    {
      "cell_type": "code",
      "metadata": {
        "id": "5PPKPlyVaK2G",
        "colab_type": "code",
        "colab": {}
      },
      "source": [
        ""
      ],
      "execution_count": 0,
      "outputs": []
    }
  ]
}