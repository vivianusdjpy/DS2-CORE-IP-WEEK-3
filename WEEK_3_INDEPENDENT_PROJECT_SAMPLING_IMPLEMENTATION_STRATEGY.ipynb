{
  "nbformat": 4,
  "nbformat_minor": 0,
  "metadata": {
    "colab": {
      "name": "WEEK 3 INDEPENDENT PROJECT. SAMPLING IMPLEMENTATION STRATEGY",
      "provenance": [],
      "toc_visible": true,
      "include_colab_link": true
    },
    "kernelspec": {
      "name": "python3",
      "display_name": "Python 3"
    }
  },
  "cells": [
    {
      "cell_type": "markdown",
      "metadata": {
        "id": "view-in-github",
        "colab_type": "text"
      },
      "source": [
        "<a href=\"https://colab.research.google.com/github/vivianusdjpy/DS2-CORE-IP-WEEK-3/blob/master/WEEK_3_INDEPENDENT_PROJECT_SAMPLING_IMPLEMENTATION_STRATEGY.ipynb\" target=\"_parent\"><img src=\"https://colab.research.google.com/assets/colab-badge.svg\" alt=\"Open In Colab\"/></a>"
      ]
    },
    {
      "cell_type": "markdown",
      "metadata": {
        "id": "5W77PhwIUMS-",
        "colab_type": "text"
      },
      "source": [
        "# US BORDER CROSSING ANALYSIS"
      ]
    },
    {
      "cell_type": "code",
      "metadata": {
        "id": "k37u7gFXVQlf",
        "colab_type": "code",
        "colab": {}
      },
      "source": [
        "#IMPORTING THE LIBRARIES\n",
        "import pandas as pd\n",
        "import numpy as np\n",
        "import matplotlib.pyplot as plt\n",
        "import seaborn as sns\n",
        "from sklearn.cluster import KMeans\n",
        "from numpy.random import seed\n",
        "from numpy.random import randn"
      ],
      "execution_count": 0,
      "outputs": []
    },
    {
      "cell_type": "markdown",
      "metadata": {
        "id": "2w_qWCRyUQjZ",
        "colab_type": "text"
      },
      "source": [
        "# LOADING THE DATASET"
      ]
    },
    {
      "cell_type": "code",
      "metadata": {
        "id": "G4AzRqF3V9Gu",
        "colab_type": "code",
        "outputId": "31b588b0-53b8-4cec-c19f-ebc376812ac1",
        "colab": {
          "base_uri": "https://localhost:8080/",
          "height": 590
        }
      },
      "source": [
        "df = pd.read_csv(\"/content/Border_Crossing_Entry_Data.csv\")\n",
        "df"
      ],
      "execution_count": 0,
      "outputs": [
        {
          "output_type": "execute_result",
          "data": {
            "text/html": [
              "<div>\n",
              "<style scoped>\n",
              "    .dataframe tbody tr th:only-of-type {\n",
              "        vertical-align: middle;\n",
              "    }\n",
              "\n",
              "    .dataframe tbody tr th {\n",
              "        vertical-align: top;\n",
              "    }\n",
              "\n",
              "    .dataframe thead th {\n",
              "        text-align: right;\n",
              "    }\n",
              "</style>\n",
              "<table border=\"1\" class=\"dataframe\">\n",
              "  <thead>\n",
              "    <tr style=\"text-align: right;\">\n",
              "      <th></th>\n",
              "      <th>Port Name</th>\n",
              "      <th>State</th>\n",
              "      <th>Port Code</th>\n",
              "      <th>Border</th>\n",
              "      <th>Date</th>\n",
              "      <th>Measure</th>\n",
              "      <th>Value</th>\n",
              "      <th>Location</th>\n",
              "    </tr>\n",
              "  </thead>\n",
              "  <tbody>\n",
              "    <tr>\n",
              "      <th>0</th>\n",
              "      <td>Calexico East</td>\n",
              "      <td>California</td>\n",
              "      <td>2507</td>\n",
              "      <td>US-Mexico Border</td>\n",
              "      <td>03/01/2019 12:00:00 AM</td>\n",
              "      <td>Trucks</td>\n",
              "      <td>34447</td>\n",
              "      <td>POINT (-115.48433000000001 32.67524)</td>\n",
              "    </tr>\n",
              "    <tr>\n",
              "      <th>1</th>\n",
              "      <td>Van Buren</td>\n",
              "      <td>Maine</td>\n",
              "      <td>108</td>\n",
              "      <td>US-Canada Border</td>\n",
              "      <td>03/01/2019 12:00:00 AM</td>\n",
              "      <td>Rail Containers Full</td>\n",
              "      <td>428</td>\n",
              "      <td>POINT (-67.94271 47.16207)</td>\n",
              "    </tr>\n",
              "    <tr>\n",
              "      <th>2</th>\n",
              "      <td>Otay Mesa</td>\n",
              "      <td>California</td>\n",
              "      <td>2506</td>\n",
              "      <td>US-Mexico Border</td>\n",
              "      <td>03/01/2019 12:00:00 AM</td>\n",
              "      <td>Trucks</td>\n",
              "      <td>81217</td>\n",
              "      <td>POINT (-117.05333 32.57333)</td>\n",
              "    </tr>\n",
              "    <tr>\n",
              "      <th>3</th>\n",
              "      <td>Nogales</td>\n",
              "      <td>Arizona</td>\n",
              "      <td>2604</td>\n",
              "      <td>US-Mexico Border</td>\n",
              "      <td>03/01/2019 12:00:00 AM</td>\n",
              "      <td>Trains</td>\n",
              "      <td>62</td>\n",
              "      <td>POINT (-110.93361 31.340279999999996)</td>\n",
              "    </tr>\n",
              "    <tr>\n",
              "      <th>4</th>\n",
              "      <td>Trout River</td>\n",
              "      <td>New York</td>\n",
              "      <td>715</td>\n",
              "      <td>US-Canada Border</td>\n",
              "      <td>03/01/2019 12:00:00 AM</td>\n",
              "      <td>Personal Vehicle Passengers</td>\n",
              "      <td>16377</td>\n",
              "      <td>POINT (-73.44253 44.990010000000005)</td>\n",
              "    </tr>\n",
              "    <tr>\n",
              "      <th>...</th>\n",
              "      <td>...</td>\n",
              "      <td>...</td>\n",
              "      <td>...</td>\n",
              "      <td>...</td>\n",
              "      <td>...</td>\n",
              "      <td>...</td>\n",
              "      <td>...</td>\n",
              "      <td>...</td>\n",
              "    </tr>\n",
              "    <tr>\n",
              "      <th>346728</th>\n",
              "      <td>Norton</td>\n",
              "      <td>Vermont</td>\n",
              "      <td>211</td>\n",
              "      <td>US-Canada Border</td>\n",
              "      <td>01/01/1996 12:00:00 AM</td>\n",
              "      <td>Personal Vehicle Passengers</td>\n",
              "      <td>9119</td>\n",
              "      <td>POINT (-71.79 45.01)</td>\n",
              "    </tr>\n",
              "    <tr>\n",
              "      <th>346729</th>\n",
              "      <td>Columbus</td>\n",
              "      <td>New Mexico</td>\n",
              "      <td>2406</td>\n",
              "      <td>US-Mexico Border</td>\n",
              "      <td>01/01/1996 12:00:00 AM</td>\n",
              "      <td>Personal Vehicles</td>\n",
              "      <td>29486</td>\n",
              "      <td>POINT (-107.63 31.78)</td>\n",
              "    </tr>\n",
              "    <tr>\n",
              "      <th>346730</th>\n",
              "      <td>Hansboro</td>\n",
              "      <td>North Dakota</td>\n",
              "      <td>3415</td>\n",
              "      <td>US-Canada Border</td>\n",
              "      <td>01/01/1996 12:00:00 AM</td>\n",
              "      <td>Rail Containers Full</td>\n",
              "      <td>0</td>\n",
              "      <td>POINT (-99.35 49)</td>\n",
              "    </tr>\n",
              "    <tr>\n",
              "      <th>346731</th>\n",
              "      <td>Calexico East</td>\n",
              "      <td>California</td>\n",
              "      <td>2507</td>\n",
              "      <td>US-Mexico Border</td>\n",
              "      <td>01/01/1996 12:00:00 AM</td>\n",
              "      <td>Buses</td>\n",
              "      <td>0</td>\n",
              "      <td>POINT (-115.39 32.67)</td>\n",
              "    </tr>\n",
              "    <tr>\n",
              "      <th>346732</th>\n",
              "      <td>Presidio</td>\n",
              "      <td>Texas</td>\n",
              "      <td>2403</td>\n",
              "      <td>US-Mexico Border</td>\n",
              "      <td>01/01/1996 12:00:00 AM</td>\n",
              "      <td>Trucks</td>\n",
              "      <td>347</td>\n",
              "      <td>POINT (-104.39000000000001 29.56)</td>\n",
              "    </tr>\n",
              "  </tbody>\n",
              "</table>\n",
              "<p>346733 rows × 8 columns</p>\n",
              "</div>"
            ],
            "text/plain": [
              "            Port Name  ...                               Location\n",
              "0       Calexico East  ...   POINT (-115.48433000000001 32.67524)\n",
              "1           Van Buren  ...             POINT (-67.94271 47.16207)\n",
              "2           Otay Mesa  ...            POINT (-117.05333 32.57333)\n",
              "3             Nogales  ...  POINT (-110.93361 31.340279999999996)\n",
              "4         Trout River  ...   POINT (-73.44253 44.990010000000005)\n",
              "...               ...  ...                                    ...\n",
              "346728         Norton  ...                   POINT (-71.79 45.01)\n",
              "346729       Columbus  ...                  POINT (-107.63 31.78)\n",
              "346730       Hansboro  ...                      POINT (-99.35 49)\n",
              "346731  Calexico East  ...                  POINT (-115.39 32.67)\n",
              "346732       Presidio  ...      POINT (-104.39000000000001 29.56)\n",
              "\n",
              "[346733 rows x 8 columns]"
            ]
          },
          "metadata": {
            "tags": []
          },
          "execution_count": 58
        }
      ]
    },
    {
      "cell_type": "code",
      "metadata": {
        "id": "bos02VRkXwi_",
        "colab_type": "code",
        "outputId": "17482a4b-b734-4f4e-ee0a-795a98312b17",
        "colab": {
          "base_uri": "https://localhost:8080/",
          "height": 287
        }
      },
      "source": [
        "df.describe()\n"
      ],
      "execution_count": 0,
      "outputs": [
        {
          "output_type": "execute_result",
          "data": {
            "text/html": [
              "<div>\n",
              "<style scoped>\n",
              "    .dataframe tbody tr th:only-of-type {\n",
              "        vertical-align: middle;\n",
              "    }\n",
              "\n",
              "    .dataframe tbody tr th {\n",
              "        vertical-align: top;\n",
              "    }\n",
              "\n",
              "    .dataframe thead th {\n",
              "        text-align: right;\n",
              "    }\n",
              "</style>\n",
              "<table border=\"1\" class=\"dataframe\">\n",
              "  <thead>\n",
              "    <tr style=\"text-align: right;\">\n",
              "      <th></th>\n",
              "      <th>Port Code</th>\n",
              "      <th>Value</th>\n",
              "    </tr>\n",
              "  </thead>\n",
              "  <tbody>\n",
              "    <tr>\n",
              "      <th>count</th>\n",
              "      <td>346733.000000</td>\n",
              "      <td>3.467330e+05</td>\n",
              "    </tr>\n",
              "    <tr>\n",
              "      <th>mean</th>\n",
              "      <td>2455.504910</td>\n",
              "      <td>2.818767e+04</td>\n",
              "    </tr>\n",
              "    <tr>\n",
              "      <th>std</th>\n",
              "      <td>1201.208459</td>\n",
              "      <td>1.518588e+05</td>\n",
              "    </tr>\n",
              "    <tr>\n",
              "      <th>min</th>\n",
              "      <td>101.000000</td>\n",
              "      <td>0.000000e+00</td>\n",
              "    </tr>\n",
              "    <tr>\n",
              "      <th>25%</th>\n",
              "      <td>2304.000000</td>\n",
              "      <td>0.000000e+00</td>\n",
              "    </tr>\n",
              "    <tr>\n",
              "      <th>50%</th>\n",
              "      <td>3013.000000</td>\n",
              "      <td>9.000000e+01</td>\n",
              "    </tr>\n",
              "    <tr>\n",
              "      <th>75%</th>\n",
              "      <td>3402.000000</td>\n",
              "      <td>2.483000e+03</td>\n",
              "    </tr>\n",
              "    <tr>\n",
              "      <th>max</th>\n",
              "      <td>4105.000000</td>\n",
              "      <td>4.447374e+06</td>\n",
              "    </tr>\n",
              "  </tbody>\n",
              "</table>\n",
              "</div>"
            ],
            "text/plain": [
              "           Port Code         Value\n",
              "count  346733.000000  3.467330e+05\n",
              "mean     2455.504910  2.818767e+04\n",
              "std      1201.208459  1.518588e+05\n",
              "min       101.000000  0.000000e+00\n",
              "25%      2304.000000  0.000000e+00\n",
              "50%      3013.000000  9.000000e+01\n",
              "75%      3402.000000  2.483000e+03\n",
              "max      4105.000000  4.447374e+06"
            ]
          },
          "metadata": {
            "tags": []
          },
          "execution_count": 60
        }
      ]
    },
    {
      "cell_type": "markdown",
      "metadata": {
        "id": "UwQXXKbH4Px5",
        "colab_type": "text"
      },
      "source": [
        "# DATA CLEANING"
      ]
    },
    {
      "cell_type": "code",
      "metadata": {
        "id": "gde8Qq9fYD7L",
        "colab_type": "code",
        "outputId": "e5f48db4-dcec-4ee1-9cb4-aaea8eda3fe9",
        "colab": {
          "base_uri": "https://localhost:8080/",
          "height": 105
        }
      },
      "source": [
        "df['State'].describe()\n",
        "#15 unique states"
      ],
      "execution_count": 0,
      "outputs": [
        {
          "output_type": "execute_result",
          "data": {
            "text/plain": [
              "count           346733\n",
              "unique              15\n",
              "top       North Dakota\n",
              "freq             57071\n",
              "Name: State, dtype: object"
            ]
          },
          "metadata": {
            "tags": []
          },
          "execution_count": 61
        }
      ]
    },
    {
      "cell_type": "code",
      "metadata": {
        "id": "YHnPXLJwkAKO",
        "colab_type": "code",
        "outputId": "ee9ebb95-db1f-42da-c02a-a0f76073f814",
        "colab": {
          "base_uri": "https://localhost:8080/",
          "height": 105
        }
      },
      "source": [
        "df['Port Name'].describe()\n",
        "#"
      ],
      "execution_count": 0,
      "outputs": [
        {
          "output_type": "execute_result",
          "data": {
            "text/plain": [
              "count       346733\n",
              "unique         116\n",
              "top       Eastport\n",
              "freq          5541\n",
              "Name: Port Name, dtype: object"
            ]
          },
          "metadata": {
            "tags": []
          },
          "execution_count": 62
        }
      ]
    },
    {
      "cell_type": "code",
      "metadata": {
        "id": "F9clWJVAwYDf",
        "colab_type": "code",
        "outputId": "66d50a59-6093-4e69-9e07-ba797b5da081",
        "colab": {
          "base_uri": "https://localhost:8080/",
          "height": 212
        }
      },
      "source": [
        "df['Port Code'].unique()"
      ],
      "execution_count": 0,
      "outputs": [
        {
          "output_type": "execute_result",
          "data": {
            "text/plain": [
              "array([2507,  108, 2506, 2604,  715,  109, 3401, 2309, 3403,  712, 3317,\n",
              "       3404, 3430,  209, 3409, 3323, 3023,  105, 2504, 3309,  206,  115,\n",
              "        704, 3019, 3415, 3013, 2505, 3302, 3407, 2310, 2603, 2410, 3301,\n",
              "       3308,  211, 3803, 3413, 2307, 2302, 2606,  212, 3322,  106, 3025,\n",
              "        107, 3420, 3419, 3004, 2601, 3802,  127, 2408, 2602, 3426, 3103,\n",
              "       3417, 3020, 3424,  110, 3613,  901, 2503, 3425, 3406, 3414, 3016,\n",
              "       3801,  104, 3410, 3306, 3422, 3015, 3009,  708, 2303, 3421, 3310,\n",
              "       3316, 2404, 2402, 3007, 2608, 3012, 3011, 3423, 3321, 3416,  118,\n",
              "       2502, 2305,  203, 3017,  103, 3604, 3405, 2406, 2301, 2403,  701,\n",
              "       3010, 3319, 3325, 3318, 2304, 3408, 3102, 3104, 3106, 2582, 3014,\n",
              "       3814,  101,  706, 4105, 3312, 3402,  112])"
            ]
          },
          "metadata": {
            "tags": []
          },
          "execution_count": 63
        }
      ]
    },
    {
      "cell_type": "code",
      "metadata": {
        "id": "xfnwmxZ3o18B",
        "colab_type": "code",
        "outputId": "d4d1079c-f70c-4444-8596-9533a26c6310",
        "colab": {
          "base_uri": "https://localhost:8080/",
          "height": 105
        }
      },
      "source": [
        "df['Border'].describe()\n",
        "#There are two main ports of entry into the united states"
      ],
      "execution_count": 0,
      "outputs": [
        {
          "output_type": "execute_result",
          "data": {
            "text/plain": [
              "count               346733\n",
              "unique                   2\n",
              "top       US-Canada Border\n",
              "freq                266187\n",
              "Name: Border, dtype: object"
            ]
          },
          "metadata": {
            "tags": []
          },
          "execution_count": 64
        }
      ]
    },
    {
      "cell_type": "code",
      "metadata": {
        "id": "I9V5DgrxwHgb",
        "colab_type": "code",
        "outputId": "f96a143f-70e9-4b21-90c8-59dce9ebbbc4",
        "colab": {
          "base_uri": "https://localhost:8080/",
          "height": 105
        }
      },
      "source": [
        "df['Measure'].describe()\n",
        "#most of the entry into the US is by personal vehicles"
      ],
      "execution_count": 0,
      "outputs": [
        {
          "output_type": "execute_result",
          "data": {
            "text/plain": [
              "count                346733\n",
              "unique                   12\n",
              "top       Personal Vehicles\n",
              "freq                  30219\n",
              "Name: Measure, dtype: object"
            ]
          },
          "metadata": {
            "tags": []
          },
          "execution_count": 65
        }
      ]
    },
    {
      "cell_type": "code",
      "metadata": {
        "id": "MGpIqkol_O2d",
        "colab_type": "code",
        "outputId": "61b5c5fe-8f12-4ddd-debc-d208885b6311",
        "colab": {
          "base_uri": "https://localhost:8080/",
          "height": 105
        }
      },
      "source": [
        "df['Location'].describe()\n",
        "#there are 224 unique locations "
      ],
      "execution_count": 0,
      "outputs": [
        {
          "output_type": "execute_result",
          "data": {
            "text/plain": [
              "count                   346733\n",
              "unique                     224\n",
              "top       POINT (-83.04 42.32)\n",
              "freq                      3069\n",
              "Name: Location, dtype: object"
            ]
          },
          "metadata": {
            "tags": []
          },
          "execution_count": 66
        }
      ]
    },
    {
      "cell_type": "code",
      "metadata": {
        "id": "-Tn6h6cj_ixi",
        "colab_type": "code",
        "outputId": "3d119980-2484-4e82-8e9b-59daa30876a1",
        "colab": {
          "base_uri": "https://localhost:8080/",
          "height": 221
        }
      },
      "source": [
        "#plotting a scatter plot to visualize location distribution for entry into the US\n",
        "# Plot the data using the location\n",
        "# c (color) is an argument which could be coded with a variable \n",
        "# cmap is the color map.\n",
        "plt.scatter(df['Location'],cmap='rainbow')\n",
        "plt.xlim(-180,180)\n",
        "plt.ylim(-90,90)\n",
        "plt.show()"
      ],
      "execution_count": 0,
      "outputs": [
        {
          "output_type": "error",
          "ename": "TypeError",
          "evalue": "ignored",
          "traceback": [
            "\u001b[0;31m---------------------------------------------------------------------------\u001b[0m",
            "\u001b[0;31mTypeError\u001b[0m                                 Traceback (most recent call last)",
            "\u001b[0;32m<ipython-input-68-3b5e96964623>\u001b[0m in \u001b[0;36m<module>\u001b[0;34m()\u001b[0m\n\u001b[0;32m----> 1\u001b[0;31m \u001b[0mplt\u001b[0m\u001b[0;34m.\u001b[0m\u001b[0mscatter\u001b[0m\u001b[0;34m(\u001b[0m\u001b[0mdf\u001b[0m\u001b[0;34m[\u001b[0m\u001b[0;34m'Location'\u001b[0m\u001b[0;34m]\u001b[0m\u001b[0;34m,\u001b[0m\u001b[0mcmap\u001b[0m\u001b[0;34m=\u001b[0m\u001b[0;34m'rainbow'\u001b[0m\u001b[0;34m)\u001b[0m\u001b[0;34m\u001b[0m\u001b[0;34m\u001b[0m\u001b[0m\n\u001b[0m\u001b[1;32m      2\u001b[0m \u001b[0mplt\u001b[0m\u001b[0;34m.\u001b[0m\u001b[0mxlim\u001b[0m\u001b[0;34m(\u001b[0m\u001b[0;34m-\u001b[0m\u001b[0;36m180\u001b[0m\u001b[0;34m,\u001b[0m\u001b[0;36m180\u001b[0m\u001b[0;34m)\u001b[0m\u001b[0;34m\u001b[0m\u001b[0;34m\u001b[0m\u001b[0m\n\u001b[1;32m      3\u001b[0m \u001b[0mplt\u001b[0m\u001b[0;34m.\u001b[0m\u001b[0mylim\u001b[0m\u001b[0;34m(\u001b[0m\u001b[0;34m-\u001b[0m\u001b[0;36m90\u001b[0m\u001b[0;34m,\u001b[0m\u001b[0;36m90\u001b[0m\u001b[0;34m)\u001b[0m\u001b[0;34m\u001b[0m\u001b[0;34m\u001b[0m\u001b[0m\n\u001b[1;32m      4\u001b[0m \u001b[0mplt\u001b[0m\u001b[0;34m.\u001b[0m\u001b[0mshow\u001b[0m\u001b[0;34m(\u001b[0m\u001b[0;34m)\u001b[0m\u001b[0;34m\u001b[0m\u001b[0;34m\u001b[0m\u001b[0m\n",
            "\u001b[0;31mTypeError\u001b[0m: scatter() missing 1 required positional argument: 'y'"
          ]
        }
      ]
    },
    {
      "cell_type": "markdown",
      "metadata": {
        "id": "E6qlaHJc4Xjp",
        "colab_type": "text"
      },
      "source": [
        "# New Section"
      ]
    }
  ]
}